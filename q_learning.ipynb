{
  "cells": [
    {
      "cell_type": "markdown",
      "metadata": {
        "id": "view-in-github",
        "colab_type": "text"
      },
      "source": [
        "<a href=\"https://colab.research.google.com/github/2003UJAN/Dynamic-Surge-Pricing-Optimization-Ride-hailing-Mobility/blob/main/q_learning.ipynb\" target=\"_parent\"><img src=\"https://colab.research.google.com/assets/colab-badge.svg\" alt=\"Open In Colab\"/></a>"
      ]
    },
    {
      "cell_type": "code",
      "source": [
        "import numpy as np\n",
        "import joblib"
      ],
      "metadata": {
        "id": "_j-eKdew8DB1"
      },
      "execution_count": 12,
      "outputs": []
    },
    {
      "cell_type": "code",
      "source": [
        "class QLearningSurgePricing:\n",
        "    def __init__(self):\n",
        "        self.q_table = np.zeros((24, 10, 4, 2, 5))\n",
        "        self.alpha = 0.1\n",
        "        self.gamma = 0.9\n",
        "\n",
        "    def get_price_multiplier(self, hour, traffic, weather, events):\n",
        "        state = (hour, traffic - 1, weather - 1, events)\n",
        "        action = np.argmax(self.q_table[state])\n",
        "        return 1 + (action * 0.2)\n",
        "\n",
        "    def update_q_table(self, state, action, reward):\n",
        "        max_future_q = np.max(self.q_table[state])\n",
        "        self.q_table[state][action] = (1 - self.alpha) * self.q_table[state][action] + self.alpha * (reward + self.gamma * max_future_q)"
      ],
      "metadata": {
        "id": "9yUydCAM8Fsg"
      },
      "execution_count": 13,
      "outputs": []
    },
    {
      "cell_type": "code",
      "source": [
        "joblib.dump(QLearningSurgePricing(), \"q_learning_model.pkl\")\n",
        "print(\"Q-Learning model initialized and saved.\")"
      ],
      "metadata": {
        "id": "290kwOqK8Ixc",
        "outputId": "482027f5-9be8-4927-b9e8-32573e963abb",
        "colab": {
          "base_uri": "https://localhost:8080/"
        }
      },
      "execution_count": 14,
      "outputs": [
        {
          "output_type": "stream",
          "name": "stdout",
          "text": [
            "Q-Learning model initialized and saved.\n"
          ]
        }
      ]
    }
  ],
  "metadata": {
    "colab": {
      "name": "Welcome To Colab",
      "provenance": [],
      "include_colab_link": true
    },
    "kernelspec": {
      "display_name": "Python 3",
      "name": "python3"
    }
  },
  "nbformat": 4,
  "nbformat_minor": 0
}