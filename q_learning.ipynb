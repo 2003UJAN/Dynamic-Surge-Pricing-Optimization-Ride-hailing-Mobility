{
  "cells": [
    {
      "cell_type": "markdown",
      "metadata": {
        "id": "view-in-github",
        "colab_type": "text"
      },
      "source": [
        "<a href=\"https://colab.research.google.com/github/2003UJAN/Dynamic-Surge-Pricing-Optimization-Ride-hailing-Mobility/blob/main/q_learning.ipynb\" target=\"_parent\"><img src=\"https://colab.research.google.com/assets/colab-badge.svg\" alt=\"Open In Colab\"/></a>"
      ]
    },
    {
      "cell_type": "code",
      "source": [
        "import numpy as np\n",
        "import joblib"
      ],
      "metadata": {
        "id": "0Oa71Iir2gCV"
      },
      "execution_count": 13,
      "outputs": []
    },
    {
      "cell_type": "code",
      "source": [
        "class QLearningSurgePricing:\n",
        "    def __init__(self):\n",
        "        self.q_table = np.zeros((24, 10, 4, 2, 5))  # (Hour, Traffic, Weather, Events, Price Levels)\n",
        "        self.alpha = 0.1  # Learning rate\n",
        "        self.gamma = 0.9  # Discount factor\n",
        "\n",
        "    def get_price_multiplier(self, hour, traffic, weather, events):\n",
        "        state = (hour, traffic - 1, weather - 1, events)  # Adjust indexes\n",
        "        action = np.argmax(self.q_table[state])\n",
        "        return 1 + (action * 0.2)  # Surge multiplier (1.0 to 1.8)\n",
        "\n",
        "    def update_q_table(self, state, action, reward):\n",
        "        max_future_q = np.max(self.q_table[state])\n",
        "        self.q_table[state][action] = (1 - self.alpha) * self.q_table[state][action] + self.alpha * (reward + self.gamma * max_future_q)"
      ],
      "metadata": {
        "id": "0xBRg_7P2kMr"
      },
      "execution_count": 14,
      "outputs": []
    },
    {
      "cell_type": "code",
      "source": [
        "joblib.dump(QLearningSurgePricing(), \"q_learning_model.pkl\")\n",
        "print(\"Q-Learning model initialized and saved.\")"
      ],
      "metadata": {
        "colab": {
          "base_uri": "https://localhost:8080/"
        },
        "id": "CExIC4dp2qNp",
        "outputId": "fc5235c8-97d9-4452-9b42-75e617fbcec8"
      },
      "execution_count": 15,
      "outputs": [
        {
          "output_type": "stream",
          "name": "stdout",
          "text": [
            "Q-Learning model initialized and saved.\n"
          ]
        }
      ]
    }
  ],
  "metadata": {
    "colab": {
      "name": "Welcome To Colab",
      "provenance": [],
      "include_colab_link": true
    },
    "kernelspec": {
      "display_name": "Python 3",
      "name": "python3"
    }
  },
  "nbformat": 4,
  "nbformat_minor": 0
}