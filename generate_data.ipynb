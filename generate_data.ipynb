{
  "cells": [
    {
      "cell_type": "markdown",
      "metadata": {
        "id": "view-in-github",
        "colab_type": "text"
      },
      "source": [
        "<a href=\"https://colab.research.google.com/github/2003UJAN/Dynamic-Surge-Pricing-Optimization-Ride-hailing-Mobility/blob/main/generate_data.ipynb\" target=\"_parent\"><img src=\"https://colab.research.google.com/assets/colab-badge.svg\" alt=\"Open In Colab\"/></a>"
      ]
    },
    {
      "cell_type": "code",
      "source": [
        "import pandas as pd\n",
        "import numpy as np"
      ],
      "metadata": {
        "id": "1Kfrxn874eHL"
      },
      "execution_count": 1,
      "outputs": []
    },
    {
      "cell_type": "code",
      "source": [
        "np.random.seed(42)\n",
        "num_samples = 1000"
      ],
      "metadata": {
        "id": "6iZ8-bnX5FZt"
      },
      "execution_count": 2,
      "outputs": []
    },
    {
      "cell_type": "code",
      "source": [
        "data = {\n",
        "    \"hour\": np.random.randint(0, 24, num_samples),\n",
        "    \"traffic\": np.random.randint(1, 10, num_samples),\n",
        "    \"weather\": np.random.randint(1, 4, num_samples),\n",
        "    \"events\": np.random.randint(0, 2, num_samples),\n",
        "    \"distance_km\": np.random.uniform(2, 30, num_samples),\n",
        "    \"demand\": np.random.randint(50, 500, num_samples)\n",
        "}"
      ],
      "metadata": {
        "id": "-EzksvjP5HLq"
      },
      "execution_count": 3,
      "outputs": []
    },
    {
      "cell_type": "code",
      "source": [
        "df = pd.DataFrame(data)\n",
        "df.to_csv(\"synthetic_rides.csv\", index=False)\n",
        "print(\"Synthetic dataset created: synthetic_rides.csv\")"
      ],
      "metadata": {
        "id": "p2UONFyc6VPO",
        "outputId": "43564649-561f-4041-a452-9851de3a1014",
        "colab": {
          "base_uri": "https://localhost:8080/"
        }
      },
      "execution_count": 4,
      "outputs": [
        {
          "output_type": "stream",
          "name": "stdout",
          "text": [
            "Synthetic dataset created: synthetic_rides.csv\n"
          ]
        }
      ]
    }
  ],
  "metadata": {
    "colab": {
      "name": "Welcome To Colab",
      "provenance": [],
      "include_colab_link": true
    },
    "kernelspec": {
      "display_name": "Python 3",
      "name": "python3"
    }
  },
  "nbformat": 4,
  "nbformat_minor": 0
}